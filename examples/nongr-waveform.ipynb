{
 "cells": [
  {
   "cell_type": "code",
   "execution_count": 1,
   "id": "060cf0ff",
   "metadata": {},
   "outputs": [],
   "source": [
    "import pylab\n",
    "from pycbc import waveform"
   ]
  },
  {
   "cell_type": "code",
   "execution_count": 2,
   "id": "860651a8",
   "metadata": {},
   "outputs": [
    {
     "name": "stdout",
     "output_type": "stream",
     "text": [
      "LalSimulation Approximants\n",
      "  EccentricFD\n",
      "  TaylorF2\n",
      "  TaylorF2Ecc\n",
      "  TaylorF2NLTides\n",
      "  TaylorF2RedSpin\n",
      "  TaylorF2RedSpinTidal\n",
      "  SpinTaylorF2\n",
      "  EOBNRv2_ROM\n",
      "  EOBNRv2HM_ROM\n",
      "  SEOBNRv1_ROM_EffectiveSpin\n",
      "  SEOBNRv1_ROM_DoubleSpin\n",
      "  SEOBNRv2_ROM_EffectiveSpin\n",
      "  SEOBNRv2_ROM_DoubleSpin\n",
      "  SEOBNRv2_ROM_DoubleSpin_HI\n",
      "  Lackey_Tidal_2013_SEOBNRv2_ROM\n",
      "  SEOBNRv4_ROM\n",
      "  SEOBNRv4HM_ROM\n",
      "  SEOBNRv4_ROM_NRTidal\n",
      "  SEOBNRv4_ROM_NRTidalv2\n",
      "  SEOBNRv4_ROM_NRTidalv2_NSBH\n",
      "  SEOBNRv4T_surrogate\n",
      "  IMRPhenomA\n",
      "  IMRPhenomB\n",
      "  IMRPhenomC\n",
      "  IMRPhenomD\n",
      "  IMRPhenomD_NRTidal\n",
      "  IMRPhenomD_NRTidalv2\n",
      "  IMRPhenomNSBH\n",
      "  IMRPhenomHM\n",
      "  IMRPhenomP\n",
      "  IMRPhenomPv2\n",
      "  IMRPhenomPv2_NRTidal\n",
      "  IMRPhenomPv2_NRTidalv2\n",
      "  SpinTaylorT4Fourier\n",
      "  SpinTaylorT5Fourier\n",
      "  NRSur4d2s\n",
      "  IMRPhenomXAS\n",
      "  IMRPhenomXHM\n",
      "  IMRPhenomPv3\n",
      "  IMRPhenomPv3HM\n",
      "  IMRPhenomXP\n",
      "  IMRPhenomXPHM\n",
      "  SEOBNRv5_ROM\n",
      "  IMRPhenomXAS_NRTidalv2\n",
      "  IMRPhenomXP_NRTidalv2\n",
      "  IMRPhenomXO4a\n",
      "  ExternalPython\n",
      "  SpinTaylorF2_SWAPPER\n",
      "  TaylorF2NL\n",
      "  PreTaylorF2\n",
      "  multiband\n",
      "  TaylorF2e\n",
      "  TaylorF2_INTERP\n",
      "  SpinTaylorT5\n",
      "  SEOBNRv1_ROM_EffectiveSpin_INTERP\n",
      "  SEOBNRv1_ROM_DoubleSpin_INTERP\n",
      "  SEOBNRv2_ROM_EffectiveSpin_INTERP\n",
      "  SEOBNRv2_ROM_DoubleSpin_INTERP\n",
      "  EOBNRv2_ROM_INTERP\n",
      "  EOBNRv2HM_ROM_INTERP\n",
      "  SEOBNRv2_ROM_DoubleSpin_HI_INTERP\n",
      "  SEOBNRv4_ROM_INTERP\n",
      "  SEOBNRv4HM_ROM_INTERP\n",
      "  SEOBNRv4\n",
      "  SEOBNRv4P\n",
      "  IMRPhenomC_INTERP\n",
      "  IMRPhenomD_INTERP\n",
      "  IMRPhenomPv2_INTERP\n",
      "  IMRPhenomD_NRTidal_INTERP\n",
      "  IMRPhenomPv2_NRTidal_INTERP\n",
      "  IMRPhenomHM_INTERP\n",
      "  IMRPhenomPv3HM_INTERP\n",
      "  IMRPhenomXHM_INTERP\n",
      "  IMRPhenomXPHM_INTERP\n",
      "  SpinTaylorF2_INTERP\n",
      "  TaylorF2NL_INTERP\n",
      "  PreTaylorF2_INTERP\n",
      "  SpinTaylorF2_SWAPPER_INTERP\n",
      "  TaylorF2e_INTERP\n",
      "  birefringence\n",
      "  fta\n",
      "  massivegraviton\n",
      "  birefringence_INTERP\n",
      "CUDA Approximants\n"
     ]
    }
   ],
   "source": [
    "waveform.print_fd_approximants()"
   ]
  },
  {
   "cell_type": "code",
   "execution_count": null,
   "id": "9aa57dc5",
   "metadata": {},
   "outputs": [],
   "source": []
  }
 ],
 "metadata": {
  "kernelspec": {
   "display_name": "Python 3 (ipykernel)",
   "language": "python",
   "name": "python3"
  },
  "language_info": {
   "codemirror_mode": {
    "name": "ipython",
    "version": 3
   },
   "file_extension": ".py",
   "mimetype": "text/x-python",
   "name": "python",
   "nbconvert_exporter": "python",
   "pygments_lexer": "ipython3",
   "version": "3.8.12"
  }
 },
 "nbformat": 4,
 "nbformat_minor": 5
}
